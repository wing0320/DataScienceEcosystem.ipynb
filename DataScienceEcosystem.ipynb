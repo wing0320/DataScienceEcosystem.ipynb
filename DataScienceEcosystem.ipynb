{
 "cells": [
  {
   "cell_type": "markdown",
   "id": "9651bafb-199e-4913-a5a3-16a39b5c5cdc",
   "metadata": {},
   "source": [
    "# Data Science Tools and Ecosystem"
   ]
  },
  {
   "cell_type": "markdown",
   "id": "49f3b650-33d1-4775-b2e5-e28cce09c1e5",
   "metadata": {},
   "source": [
    "In this notebook, Data Science Tools and Ecosystem are summarized."
   ]
  },
  {
   "cell_type": "markdown",
   "id": "5d4516b9-ce0a-43d6-b778-3f85a206dc3b",
   "metadata": {},
   "source": [
    "Some of the popular languages that Data Scientists use are:\n",
    "1. Python\n",
    "2. R\n",
    "3. SQL"
   ]
  },
  {
   "cell_type": "markdown",
   "id": "b98aead2-63c6-4454-bb2e-7f2be3641c80",
   "metadata": {},
   "source": [
    "Some of the commonly used libraries used by Data Scientists include:\n",
    "1. NumPy\n",
    "2. pandas\n",
    "3. TensorFlow"
   ]
  },
  {
   "cell_type": "markdown",
   "id": "67ef560f-b965-4127-b261-1fc511a679a6",
   "metadata": {},
   "source": [
    "| Data Science Tools |\n",
    "|--------------------|\n",
    "| Jupyter Notebook   |\n",
    "| RStudio            |\n",
    "| Apache Zeppelin    |\n"
   ]
  },
  {
   "cell_type": "markdown",
   "id": "9b844c81-11bc-4422-a3ff-0201360de33f",
   "metadata": {},
   "source": [
    "### Below are a few examples of evaluating arithmetic expressions in Python."
   ]
  },
  {
   "cell_type": "code",
   "execution_count": 3,
   "id": "c1e54ee0-5649-4ff7-9970-408819c41c4c",
   "metadata": {
    "tags": []
   },
   "outputs": [
    {
     "data": {
      "text/plain": [
       "17"
      ]
     },
     "execution_count": 3,
     "metadata": {},
     "output_type": "execute_result"
    }
   ],
   "source": [
    "(3*4)+5\n",
    "# This a simple arithmetic expression to mutiply then add integers"
   ]
  },
  {
   "cell_type": "code",
   "execution_count": 8,
   "id": "7b379e41-7bc8-43eb-8559-b0687bc033cb",
   "metadata": {
    "tags": []
   },
   "outputs": [
    {
     "name": "stdout",
     "output_type": "stream",
     "text": [
      "200 minutes in hours is 3.33 hours\n"
     ]
    }
   ],
   "source": [
    "#This will convert 200 minutes to hours by diving by 60\n",
    "minute = 200\n",
    "hour = round(minute/60,2)\n",
    "print(str(minute)+\" minutes \"+\"in hours is \"+str(hour)+\" hours\")"
   ]
  },
  {
   "cell_type": "markdown",
   "id": "fc8e3c0d-3f11-4a41-b970-fd90fca31124",
   "metadata": {},
   "source": [
    "**Objectives:**\n",
    "- Jupyter Notebooks\n",
    "- List popular languages for Data Science\n",
    "- Data science basics\n"
   ]
  },
  {
   "cell_type": "markdown",
   "id": "e489f8f9-60ec-4185-8a32-cf3f25e0a0e5",
   "metadata": {},
   "source": [
    "## Author\n",
    "Xi.L\n"
   ]
  },
  {
   "cell_type": "code",
   "execution_count": null,
   "id": "e88af27e-9379-4d10-ae60-b46b5fb8c2d1",
   "metadata": {},
   "outputs": [],
   "source": []
  }
 ],
 "metadata": {
  "kernelspec": {
   "display_name": "Python",
   "language": "python",
   "name": "conda-env-python-py"
  },
  "language_info": {
   "codemirror_mode": {
    "name": "ipython",
    "version": 3
   },
   "file_extension": ".py",
   "mimetype": "text/x-python",
   "name": "python",
   "nbconvert_exporter": "python",
   "pygments_lexer": "ipython3",
   "version": "3.7.12"
  }
 },
 "nbformat": 4,
 "nbformat_minor": 5
}
